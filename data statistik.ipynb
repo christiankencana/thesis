{
 "cells": [
  {
   "cell_type": "code",
   "execution_count": 15,
   "metadata": {},
   "outputs": [],
   "source": [
    "# Import library\n",
    "import numpy as np\n",
    "import pandas as pd\n",
    "\n",
    "import matplotlib.pyplot as plt\n",
    "import seaborn as sns"
   ]
  },
  {
   "cell_type": "code",
   "execution_count": 16,
   "metadata": {},
   "outputs": [],
   "source": [
    "# Load data\n",
    "df = pd.read_excel('data.xlsx', sheet_name='Rekapan')"
   ]
  },
  {
   "cell_type": "code",
   "execution_count": null,
   "metadata": {},
   "outputs": [],
   "source": [
    "# Muncul data awal dan akhir\n",
    "print(df.head())\n",
    "print(df.tail())"
   ]
  },
  {
   "cell_type": "code",
   "execution_count": null,
   "metadata": {},
   "outputs": [],
   "source": [
    "# Statistik deskriptif dasar\n",
    "print(df.describe())\n",
    "\n",
    "# Cek nilai yang hilang\n",
    "print(df.isnull().sum())\n",
    "\n",
    "# Visualisasi distribusi data\n",
    "df.hist(bins=50, figsize=(20, 15))\n",
    "plt.show()"
   ]
  },
  {
   "cell_type": "code",
   "execution_count": null,
   "metadata": {},
   "outputs": [],
   "source": [
    "# Filtering only the relevant columns for descriptive statistics\n",
    "data_filtered = df[['SO', 'TERKIRIM', 'Harga Komoditas Bijih Besi', \n",
    "                    'Indeks Produksi Dalam Negeri', 'Data Inflasi', 'Kurs']]\n",
    "\n",
    "# Converting relevant columns to numeric\n",
    "data_filtered = data_filtered.apply(pd.to_numeric, errors='coerce')\n",
    "\n",
    "# Calculating descriptive statistics\n",
    "descriptive_stats = data_filtered.describe().transpose()\n",
    "\n",
    "# Adding additional statistics: count of non-null values\n",
    "descriptive_stats['count'] = data_filtered.count()\n",
    "\n",
    "# Reordering the columns for clarity\n",
    "descriptive_stats = descriptive_stats[['count', 'mean', 'std', 'min', '25%', '50%', '75%', 'max']]\n",
    "\n",
    "# Displaying the descriptive statistics\n",
    "print(descriptive_stats)\n",
    "\n",
    "# Creating a heatmap-like table for descriptive statistics\n",
    "fig, ax = plt.subplots(figsize=(12, 8))\n",
    "\n",
    "# Visualizing the descriptive statistics using heatmap style\n",
    "sns.heatmap(descriptive_stats, annot=True, fmt=\".2f\", cmap=\"Reds\", cbar=False, ax=ax, \n",
    "            linewidths=0.5, linecolor='gray', xticklabels=True, yticklabels=True)\n",
    "\n",
    "# Adjusting the x-axis labels to be at the top\n",
    "ax.xaxis.tick_top()\n",
    "\n",
    "# Setting title and layout adjustments\n",
    "ax.set_title('Statistik Deskriptif Data', fontsize=16, fontweight='bold', pad=20)\n",
    "plt.xticks(rotation=45, ha='left')\n",
    "plt.tight_layout()\n",
    "\n",
    "# Display the plot\n",
    "plt.show()"
   ]
  },
  {
   "cell_type": "code",
   "execution_count": null,
   "metadata": {},
   "outputs": [],
   "source": [
    "missing_values = df.isnull().sum()\n",
    "missing_percentage = (missing_values / len(df)) * 100\n",
    "\n",
    "# Combine into a DataFrame\n",
    "missing_df = pd.DataFrame({\n",
    "    'Number_of_NaN': missing_values,\n",
    "    'Percent(%)': missing_percentage\n",
    "}).reset_index()\n",
    "\n",
    "# Rename the columns for clarity\n",
    "missing_df.columns = ['Column', 'Number_of_NaN', 'Percent(%)']\n",
    "\n",
    "# Display the result\n",
    "print(missing_df)\n",
    "\n"
   ]
  },
  {
   "cell_type": "code",
   "execution_count": null,
   "metadata": {},
   "outputs": [],
   "source": [
    "# Select only numeric columns\n",
    "numeric_df = df.select_dtypes(include=['float64', 'int64'])\n",
    "\n",
    "# Calculate the correlation matrix\n",
    "correlation_matrix = numeric_df.corr()\n",
    "\n",
    "# Plotting the correlation matrix as a heatmap\n",
    "plt.figure(figsize=(14, 10))\n",
    "sns.heatmap(correlation_matrix, annot=True, cmap='inferno', vmin=0.1, vmax=1, linewidths=0.5, linecolor='gray')\n",
    "plt.title('Correlation Matrix', fontsize=16, fontweight='bold')\n",
    "plt.tight_layout()\n",
    "plt.show()\n"
   ]
  }
 ],
 "metadata": {
  "kernelspec": {
   "display_name": "base",
   "language": "python",
   "name": "python3"
  },
  "language_info": {
   "codemirror_mode": {
    "name": "ipython",
    "version": 3
   },
   "file_extension": ".py",
   "mimetype": "text/x-python",
   "name": "python",
   "nbconvert_exporter": "python",
   "pygments_lexer": "ipython3",
   "version": "3.12.4"
  }
 },
 "nbformat": 4,
 "nbformat_minor": 2
}
