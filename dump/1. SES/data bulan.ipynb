{
 "cells": [
  {
   "cell_type": "code",
   "execution_count": 48,
   "metadata": {},
   "outputs": [],
   "source": [
    "# Import library\n",
    "import numpy as np\n",
    "import pandas as pd\n",
    "import matplotlib.pyplot as plt\n",
    "\n",
    "# import seaborn as sns\n",
    "# from sklearn.model_selection import train_test_split\n",
    "# from sklearn.linear_model import LinearRegression\n",
    "# from sklearn.metrics import mean_squared_error\n",
    "# from statsmodels.tsa.holtwinters import SimpleExpSmoothing"
   ]
  },
  {
   "cell_type": "code",
   "execution_count": 49,
   "metadata": {},
   "outputs": [],
   "source": [
    "# Load data\n",
    "df = pd.read_excel('../data.xlsx', sheet_name='Rekapan')"
   ]
  },
  {
   "cell_type": "code",
   "execution_count": null,
   "metadata": {},
   "outputs": [],
   "source": [
    "# Muncul data awal\n",
    "df.head()"
   ]
  },
  {
   "cell_type": "code",
   "execution_count": null,
   "metadata": {},
   "outputs": [],
   "source": [
    "# Muncul data akhir\n",
    "df.tail()"
   ]
  },
  {
   "cell_type": "code",
   "execution_count": null,
   "metadata": {},
   "outputs": [],
   "source": [
    "# Statistik deskriptif dasar\n",
    "df.describe()\n",
    "\n",
    "# Cek nilai yang hilang\n",
    "df.isnull().sum()\n",
    "\n",
    "# Visualisasi distribusi data\n",
    "df.hist(bins=50, figsize=(20, 15))\n",
    "plt.show()"
   ]
  },
  {
   "cell_type": "code",
   "execution_count": null,
   "metadata": {},
   "outputs": [],
   "source": [
    "# Filter kolom terkait\n",
    "data_filtered = df[['Tanggal', 'SO', 'TERKIRIM', 'Harga Komoditas Bijih Besi', 'Indeks Produksi Dalam Negeri', 'Data Inflasi', 'Kurs']]\n",
    "\n",
    "# Ganti nama kolom\n",
    "data_filtered.columns = ['Tanggal', 'SO', 'Terkirim', 'Harga Komoditas', 'Indeks Produksi', 'Data Inflasi', 'Kurs']\n",
    "\n",
    "# Konversi tipe data\n",
    "data_filtered['Tanggal'] = pd.to_datetime(data_filtered['Tanggal'])\n",
    "\n",
    "# Ganti tipe data 'Indeks Produksi'\n",
    "data_filtered['Indeks Produksi'] = pd.to_numeric(data_filtered['Indeks Produksi'], errors='coerce')\n",
    "\n",
    "# Buat kolom 'Year' dan 'Month'\n",
    "# data_filtered['Year'] = data_filtered['Tanggal'].dt.year\n",
    "# data_filtered['Month'] = data_filtered['Tanggal'].dt.month\n",
    "\n",
    "data_filtered['bulan_tahun'] = data_filtered['Tanggal'].dt.to_period('M')"
   ]
  },
  {
   "cell_type": "code",
   "execution_count": null,
   "metadata": {},
   "outputs": [],
   "source": [
    "# Rekapan Bulanan\n",
    "# monthly_summary = data_filtered.groupby(['Year', 'Month']).agg({\n",
    "#     'SO': 'sum',\n",
    "#     # 'Terkirim': 'sum',\n",
    "#     # 'Harga Komoditas': 'mean',\n",
    "#     # 'Indeks Produksi': 'mean',\n",
    "#     # 'Data Inflasi': 'mean',\n",
    "#     # 'Kurs': 'mean'\n",
    "# }).reset_index()\n",
    "\n",
    "monthly_summary = data_filtered.groupby('bulan_tahun').agg({\n",
    "    'SO': 'sum',\n",
    "    # Uncomment other columns as needed\n",
    "    # 'Terkirim': 'sum',\n",
    "    # 'Harga Komoditas': 'mean',\n",
    "    # 'Indeks Produksi': 'mean',\n",
    "    # 'Data Inflasi': 'mean',\n",
    "    # 'Kurs': 'mean'\n",
    "}).reset_index()\n",
    "\n",
    "# Muncul Rekapan Bulanan\n",
    "monthly_summary"
   ]
  },
  {
   "cell_type": "code",
   "execution_count": null,
   "metadata": {},
   "outputs": [],
   "source": [
    "# Set alpha value for SES\n",
    "alpha = 0.1\n",
    "\n",
    "# Initialize columns for SES forecast and error metrics\n",
    "monthly_summary['SES Forecast'] = np.nan\n",
    "monthly_summary['Error'] = np.nan\n",
    "monthly_summary['MAD'] = np.nan\n",
    "monthly_summary['MSE'] = np.nan\n",
    "monthly_summary['MAPE'] = np.nan\n",
    "\n",
    "# Set initial forecast to the first SO value\n",
    "monthly_summary.loc[0, 'SES Forecast'] = monthly_summary.loc[0, 'SO']\n",
    "\n",
    "# Apply SES formula and calculate error metrics for each subsequent row\n",
    "for i in range(1, len(monthly_summary)):\n",
    "    # SES Forecast\n",
    "    monthly_summary.loc[i, 'SES Forecast'] = (alpha * monthly_summary.loc[i-1, 'SO']) + ((1 - alpha) * monthly_summary.loc[i-1, 'SES Forecast'])\n",
    "    \n",
    "    # Error\n",
    "    monthly_summary.loc[i, 'Error'] = monthly_summary.loc[i, 'SO'] - monthly_summary.loc[i, 'SES Forecast']\n",
    "    \n",
    "    # MAD (Mean Absolute Deviation)\n",
    "    monthly_summary.loc[i, 'MAD'] = abs(monthly_summary.loc[i, 'Error'])\n",
    "    \n",
    "    # MSE (Mean Squared Error)\n",
    "    monthly_summary.loc[i, 'MSE'] = monthly_summary.loc[i, 'Error'] ** 2\n",
    "    \n",
    "    # MAPE (Mean Absolute Percentage Error)\n",
    "    if monthly_summary.loc[i, 'SO'] != 0:\n",
    "        monthly_summary.loc[i, 'MAPE'] = (abs(monthly_summary.loc[i, 'Error']) / monthly_summary.loc[i, 'SO']) * 100\n",
    "    else:\n",
    "        monthly_summary.loc[i, 'MAPE'] = np.nan\n",
    "\n",
    "# Show the result\n",
    "print(monthly_summary)"
   ]
  },
  {
   "cell_type": "code",
   "execution_count": null,
   "metadata": {},
   "outputs": [],
   "source": [
    "# Optional: Plot the actual vs forecasted values\n",
    "plt.figure(figsize=(10, 6))\n",
    "plt.plot(monthly_summary['bulan_tahun'].astype(str), monthly_summary['SO'], label='Actual SO', marker='o')\n",
    "plt.plot(monthly_summary['bulan_tahun'].astype(str), monthly_summary['SES Forecast'], label='SES Forecast', marker='x')\n",
    "plt.xlabel('Month-Year')\n",
    "plt.ylabel('SO')\n",
    "plt.xticks(rotation=45)\n",
    "plt.title('Actual SO vs SES Forecast')\n",
    "plt.legend()\n",
    "plt.tight_layout()\n",
    "plt.show()"
   ]
  }
 ],
 "metadata": {
  "kernelspec": {
   "display_name": "Python 3",
   "language": "python",
   "name": "python3"
  },
  "language_info": {
   "codemirror_mode": {
    "name": "ipython",
    "version": 3
   },
   "file_extension": ".py",
   "mimetype": "text/x-python",
   "name": "python",
   "nbconvert_exporter": "python",
   "pygments_lexer": "ipython3",
   "version": "3.12.4"
  }
 },
 "nbformat": 4,
 "nbformat_minor": 2
}
