{
 "cells": [
  {
   "cell_type": "code",
   "execution_count": 1,
   "metadata": {},
   "outputs": [],
   "source": [
    "# Import library\n",
    "import numpy as np\n",
    "import pandas as pd\n",
    "import matplotlib.pyplot as plt\n",
    "\n",
    "# import seaborn as sns\n",
    "# from sklearn.model_selection import train_test_split\n",
    "# from sklearn.linear_model import LinearRegression\n",
    "# from sklearn.metrics import mean_squared_error"
   ]
  },
  {
   "cell_type": "code",
   "execution_count": 2,
   "metadata": {},
   "outputs": [],
   "source": [
    "# Load data\n",
    "df = pd.read_excel('../data.xlsx', sheet_name='Rekapan')"
   ]
  },
  {
   "cell_type": "code",
   "execution_count": null,
   "metadata": {},
   "outputs": [],
   "source": [
    "# Muncul data awal\n",
    "df.head()"
   ]
  },
  {
   "cell_type": "code",
   "execution_count": null,
   "metadata": {},
   "outputs": [],
   "source": [
    "# Muncul data akhir\n",
    "df.tail()"
   ]
  },
  {
   "cell_type": "code",
   "execution_count": null,
   "metadata": {},
   "outputs": [],
   "source": [
    "# Statistik deskriptif dasar\n",
    "df.describe()\n",
    "\n",
    "# Cek nilai yang hilang\n",
    "df.isnull().sum()\n",
    "\n",
    "# Visualisasi distribusi data\n",
    "df.hist(bins=50, figsize=(20, 15))\n",
    "plt.show()"
   ]
  },
  {
   "cell_type": "code",
   "execution_count": null,
   "metadata": {},
   "outputs": [],
   "source": [
    "# Filter kolom terkait\n",
    "data_filtered = df[['Tanggal', 'SO', 'TERKIRIM', 'Harga Komoditas Bijih Besi', 'Indeks Produksi Dalam Negeri', 'Data Inflasi', 'Kurs']]\n",
    "\n",
    "# Ganti nama kolom\n",
    "data_filtered.columns = ['Tanggal', 'SO', 'Terkirim', 'Harga Komoditas', 'Indeks Produksi', 'Data Inflasi', 'Kurs']\n",
    "\n",
    "# Konversi tipe data\n",
    "data_filtered['Tanggal'] = pd.to_datetime(data_filtered['Tanggal'])\n",
    "\n",
    "# Ganti tipe data 'Indeks Produksi'\n",
    "data_filtered['Indeks Produksi'] = pd.to_numeric(data_filtered['Indeks Produksi'], errors='coerce')\n",
    "\n",
    "# Buat kolom 'Year' dan 'Month'\n",
    "# data_filtered['Year'] = data_filtered['Tanggal'].dt.year\n",
    "# data_filtered['Month'] = data_filtered['Tanggal'].dt.month\n",
    "\n",
    "data_filtered['bulan_tahun'] = data_filtered['Tanggal'].dt.to_period('M')"
   ]
  },
  {
   "cell_type": "code",
   "execution_count": null,
   "metadata": {},
   "outputs": [],
   "source": [
    "# Buat kolom 'Year' berdasarkan kolom 'Tanggal'\n",
    "data_filtered['Year'] = data_filtered['Tanggal'].dt.year\n",
    "\n",
    "# Rekapan Tahunan\n",
    "yearly_summary = data_filtered.groupby('Year').agg({\n",
    "    'SO': 'sum',\n",
    "    # Kolom-kolom lain bisa ditambahkan sesuai kebutuhan\n",
    "    # 'Terkirim': 'sum',\n",
    "    # 'Harga Komoditas': 'mean',\n",
    "    # 'Indeks Produksi': 'mean',\n",
    "    # 'Data Inflasi': 'mean',\n",
    "    # 'Kurs': 'mean'\n",
    "}).reset_index()\n",
    "\n",
    "# Tampilkan Rekapan Tahunan\n",
    "print(yearly_summary)"
   ]
  },
  {
   "cell_type": "code",
   "execution_count": null,
   "metadata": {},
   "outputs": [],
   "source": [
    "# Set alpha value for SES (Smoothing Factor)\n",
    "alpha = 0.1\n",
    "\n",
    "# Initialize columns for SES forecast and error metrics\n",
    "yearly_summary['SES Forecast'] = np.nan\n",
    "yearly_summary['Error'] = np.nan\n",
    "yearly_summary['MAD'] = np.nan\n",
    "yearly_summary['MSE'] = np.nan\n",
    "yearly_summary['MAPE'] = np.nan\n",
    "\n",
    "# Set initial forecast to the first SO value\n",
    "yearly_summary.loc[0, 'SES Forecast'] = yearly_summary.loc[0, 'SO']\n",
    "\n",
    "# Apply SES formula and calculate error metrics for each subsequent row\n",
    "for i in range(1, len(yearly_summary)):\n",
    "    # SES Forecast\n",
    "    yearly_summary.loc[i, 'SES Forecast'] = (alpha * yearly_summary.loc[i-1, 'SO']) + ((1 - alpha) * yearly_summary.loc[i-1, 'SES Forecast'])\n",
    "    \n",
    "    # Error\n",
    "    yearly_summary.loc[i, 'Error'] = yearly_summary.loc[i, 'SO'] - yearly_summary.loc[i, 'SES Forecast']\n",
    "    \n",
    "    # MAD (Mean Absolute Deviation)\n",
    "    yearly_summary.loc[i, 'MAD'] = abs(yearly_summary.loc[i, 'Error'])\n",
    "    \n",
    "    # MSE (Mean Squared Error)\n",
    "    yearly_summary.loc[i, 'MSE'] = yearly_summary.loc[i, 'Error'] ** 2\n",
    "    \n",
    "    # MAPE (Mean Absolute Percentage Error)\n",
    "    if yearly_summary.loc[i, 'SO'] != 0:\n",
    "        yearly_summary.loc[i, 'MAPE'] = (abs(yearly_summary.loc[i, 'Error']) / yearly_summary.loc[i, 'SO']) * 100\n",
    "    else:\n",
    "        yearly_summary.loc[i, 'MAPE'] = np.nan\n",
    "\n",
    "# Tampilkan hasil peramalan dan error metrics\n",
    "print(yearly_summary)"
   ]
  },
  {
   "cell_type": "code",
   "execution_count": null,
   "metadata": {},
   "outputs": [],
   "source": [
    "# Plot hasil peramalan versus data aktual\n",
    "plt.figure(figsize=(10, 6))\n",
    "plt.plot(yearly_summary['Year'], yearly_summary['SO'], label='Actual SO', marker='o')\n",
    "plt.plot(yearly_summary['Year'], yearly_summary['SES Forecast'], label='SES Forecast', marker='x')\n",
    "plt.xlabel('Year')\n",
    "plt.ylabel('SO')\n",
    "plt.xticks(rotation=45)\n",
    "plt.title('Actual SO vs SES Forecast (Yearly)')\n",
    "plt.legend()\n",
    "plt.tight_layout()\n",
    "plt.show()"
   ]
  },
  {
   "cell_type": "code",
   "execution_count": null,
   "metadata": {},
   "outputs": [],
   "source": [
    "# Function to generate future forecasts for years\n",
    "def generate_future_forecasts_yearly(data, periods, alpha):\n",
    "    last_actual = data['SO'].iloc[-1]\n",
    "    last_forecast = data['SES Forecast'].iloc[-1]\n",
    "    \n",
    "    future_years = np.arange(data['Year'].iloc[-1] + 1, data['Year'].iloc[-1] + periods + 1)\n",
    "    future_forecasts = []\n",
    "    \n",
    "    for _ in range(periods):\n",
    "        next_forecast = alpha * last_actual + (1 - alpha) * last_forecast\n",
    "        future_forecasts.append(next_forecast)\n",
    "        last_actual = next_forecast  # Assume forecast becomes the actual for next period\n",
    "        last_forecast = next_forecast\n",
    "    \n",
    "    future_df = pd.DataFrame({\n",
    "        'Year': future_years,\n",
    "        'SO': np.nan,\n",
    "        'SES Forecast': future_forecasts\n",
    "    })\n",
    "    \n",
    "    return future_df\n",
    "\n",
    "# Generate 5 years of future forecasts\n",
    "future_periods = 5\n",
    "future_forecasts = generate_future_forecasts_yearly(yearly_summary, future_periods, alpha)\n",
    "\n",
    "# Combine historical data with future forecasts\n",
    "combined_yearly_data = pd.concat([yearly_summary, future_forecasts]).reset_index(drop=True)\n",
    "\n",
    "# Plot the results including future forecasts\n",
    "plt.figure(figsize=(15, 8))\n",
    "plt.plot(combined_yearly_data['Year'], combined_yearly_data['SO'], label='Actual SO', marker='o')\n",
    "plt.plot(combined_yearly_data['Year'], combined_yearly_data['SES Forecast'], label='SES Forecast', marker='x')\n",
    "plt.axvline(x=yearly_summary['Year'].iloc[-1], color='r', linestyle='--', label='Forecast Start')\n",
    "plt.xlabel('Year')\n",
    "plt.ylabel('SO')\n",
    "plt.title('Actual SO vs SES Forecast (Including Future Predictions)')\n",
    "plt.legend()\n",
    "plt.xticks(rotation=45)\n",
    "plt.tight_layout()\n",
    "plt.show()\n",
    "\n",
    "# Display the future forecasts\n",
    "print(\"\\nFuture Forecasts:\")\n",
    "print(future_forecasts)\n",
    "\n",
    "# Calculate and display overall error metrics\n",
    "overall_mad = yearly_summary['MAD'].mean()\n",
    "overall_mse = yearly_summary['MSE'].mean()\n",
    "overall_mape = yearly_summary['MAPE'].mean()\n",
    "\n",
    "print(f\"\\nOverall MAD: {overall_mad:.2f}\")\n",
    "print(f\"Overall MSE: {overall_mse:.2f}\")\n",
    "print(f\"Overall MAPE: {overall_mape:.2f}%\")"
   ]
  }
 ],
 "metadata": {
  "kernelspec": {
   "display_name": "Python 3",
   "language": "python",
   "name": "python3"
  },
  "language_info": {
   "codemirror_mode": {
    "name": "ipython",
    "version": 3
   },
   "file_extension": ".py",
   "mimetype": "text/x-python",
   "name": "python",
   "nbconvert_exporter": "python",
   "pygments_lexer": "ipython3",
   "version": "3.12.4"
  }
 },
 "nbformat": 4,
 "nbformat_minor": 2
}
