{
 "cells": [
  {
   "cell_type": "code",
   "execution_count": null,
   "metadata": {},
   "outputs": [],
   "source": [
    "# Import library\n",
    "import numpy as np\n",
    "import pandas as pd\n",
    "import matplotlib.pyplot as plt\n",
    "import seaborn as sns\n",
    "\n",
    "from sklearn.model_selection import train_test_split\n",
    "from sklearn.linear_model import LinearRegression\n",
    "from sklearn.metrics import mean_squared_error"
   ]
  },
  {
   "cell_type": "code",
   "execution_count": null,
   "metadata": {},
   "outputs": [],
   "source": [
    "# Load data\n",
    "df = pd.read_excel('data.xlsx', sheet_name='Rekapan')"
   ]
  },
  {
   "cell_type": "code",
   "execution_count": null,
   "metadata": {},
   "outputs": [],
   "source": [
    "# Muncul data awal\n",
    "df.head()"
   ]
  },
  {
   "cell_type": "code",
   "execution_count": null,
   "metadata": {},
   "outputs": [],
   "source": [
    "# Muncul data akhir\n",
    "df.tail()"
   ]
  },
  {
   "cell_type": "code",
   "execution_count": null,
   "metadata": {},
   "outputs": [],
   "source": [
    "# Statistik deskriptif dasar\n",
    "df.describe()\n",
    "\n",
    "# Cek nilai yang hilang\n",
    "df.isnull().sum()\n",
    "\n",
    "# Visualisasi distribusi data\n",
    "df.hist(bins=50, figsize=(20, 15))\n",
    "plt.show()"
   ]
  },
  {
   "cell_type": "code",
   "execution_count": null,
   "metadata": {},
   "outputs": [],
   "source": [
    "# Filter kolom terkait\n",
    "data_filtered = df[['Tanggal', 'SO', 'TERKIRIM', 'Harga Komoditas Bijih Besi', 'Indeks Produksi Dalam Negeri', 'Data Inflasi', 'Kurs']]\n",
    "\n",
    "# Ganti nama kolom\n",
    "data_filtered.columns = ['Tanggal', 'SO', 'Terkirim', 'Harga Komoditas', 'Indeks Produksi', 'Data Inflasi', 'Kurs']\n",
    "\n",
    "# Konversi tipe data\n",
    "data_filtered['Tanggal'] = pd.to_datetime(data_filtered['Tanggal'])\n",
    "\n",
    "# Ganti tipe data 'Indeks Produksi'\n",
    "data_filtered['Indeks Produksi'] = pd.to_numeric(data_filtered['Indeks Produksi'], errors='coerce')\n",
    "\n",
    "# Buat kolom 'Year' dan 'Month'\n",
    "# data_filtered['Year'] = data_filtered['Tanggal'].dt.year\n",
    "# data_filtered['Month'] = data_filtered['Tanggal'].dt.month\n",
    "\n",
    "data_filtered['bulan_tahun'] = data_filtered['Tanggal'].dt.to_period('M')"
   ]
  },
  {
   "cell_type": "code",
   "execution_count": null,
   "metadata": {},
   "outputs": [],
   "source": [
    "# Rekapan Bulanan\n",
    "# monthly_summary = data_filtered.groupby(['Year', 'Month']).agg({\n",
    "#     'SO': 'sum',\n",
    "#     # 'Terkirim': 'sum',\n",
    "#     # 'Harga Komoditas': 'mean',\n",
    "#     # 'Indeks Produksi': 'mean',\n",
    "#     # 'Data Inflasi': 'mean',\n",
    "#     # 'Kurs': 'mean'\n",
    "# }).reset_index()\n",
    "\n",
    "monthly_summary = data_filtered.groupby('bulan_tahun').agg({\n",
    "    'SO': 'sum',\n",
    "    # Uncomment other columns as needed\n",
    "    # 'Terkirim': 'sum',\n",
    "    # 'Harga Komoditas': 'mean',\n",
    "    # 'Indeks Produksi': 'mean',\n",
    "    # 'Data Inflasi': 'mean',\n",
    "    # 'Kurs': 'mean'\n",
    "}).reset_index()\n",
    "\n",
    "# Muncul Rekapan Bulanan\n",
    "monthly_summary"
   ]
  },
  {
   "cell_type": "code",
   "execution_count": null,
   "metadata": {},
   "outputs": [],
   "source": [
    "# Rekapan Tahunan\n",
    "yearly_summary = data_filtered.groupby(['Year']).agg({\n",
    "    'SO': 'sum',\n",
    "    # 'Terkirim': 'sum',\n",
    "    # 'Harga Komoditas': 'mean',\n",
    "    # 'Indeks Produksi': 'mean',\n",
    "    # 'Data Inflasi': 'mean',\n",
    "    # 'Kurs': 'mean'\n",
    "}).reset_index()\n",
    "\n",
    "# Muncul Rekapan Tahunan\n",
    "yearly_summary"
   ]
  }
 ],
 "metadata": {
  "kernelspec": {
   "display_name": "Python 3",
   "language": "python",
   "name": "python3"
  },
  "language_info": {
   "codemirror_mode": {
    "name": "ipython",
    "version": 3
   },
   "file_extension": ".py",
   "mimetype": "text/x-python",
   "name": "python",
   "nbconvert_exporter": "python",
   "pygments_lexer": "ipython3",
   "version": "3.12.4"
  }
 },
 "nbformat": 4,
 "nbformat_minor": 2
}
