{
 "cells": [
  {
   "cell_type": "code",
   "execution_count": 1,
   "metadata": {},
   "outputs": [],
   "source": [
    "# Import library\n",
    "import numpy as np\n",
    "import pandas as pd\n",
    "import matplotlib.pyplot as plt\n",
    "\n",
    "# import seaborn as sns\n",
    "# from sklearn.model_selection import train_test_split\n",
    "# from sklearn.linear_model import LinearRegression\n",
    "# from sklearn.metrics import mean_squared_error\n",
    "# from statsmodels.tsa.holtwinters import SimpleExpSmoothing"
   ]
  },
  {
   "cell_type": "code",
   "execution_count": 2,
   "metadata": {},
   "outputs": [],
   "source": [
    "# Load data\n",
    "df = pd.read_excel('../data.xlsx', sheet_name='Rekapan')"
   ]
  },
  {
   "cell_type": "code",
   "execution_count": null,
   "metadata": {},
   "outputs": [],
   "source": [
    "# Muncul data awal\n",
    "df.head()"
   ]
  },
  {
   "cell_type": "code",
   "execution_count": null,
   "metadata": {},
   "outputs": [],
   "source": [
    "# Muncul data akhir\n",
    "df.tail()"
   ]
  },
  {
   "cell_type": "code",
   "execution_count": null,
   "metadata": {},
   "outputs": [],
   "source": [
    "# Statistik deskriptif dasar\n",
    "df.describe()\n",
    "\n",
    "# Cek nilai yang hilang\n",
    "df.isnull().sum()\n",
    "\n",
    "# Visualisasi distribusi data\n",
    "df.hist(bins=50, figsize=(20, 15))\n",
    "plt.show()"
   ]
  },
  {
   "cell_type": "code",
   "execution_count": null,
   "metadata": {},
   "outputs": [],
   "source": [
    "# Filter kolom terkait\n",
    "data_filtered = df[['Tanggal', 'SO', 'TERKIRIM', 'Harga Komoditas Bijih Besi', 'Indeks Produksi Dalam Negeri', 'Data Inflasi', 'Kurs']]\n",
    "\n",
    "# Ganti nama kolom\n",
    "data_filtered.columns = ['Tanggal', 'SO', 'Terkirim', 'Harga Komoditas', 'Indeks Produksi', 'Data Inflasi', 'Kurs']\n",
    "\n",
    "# Konversi tipe data\n",
    "data_filtered['Tanggal'] = pd.to_datetime(data_filtered['Tanggal'])\n",
    "\n",
    "# Ganti tipe data 'Indeks Produksi'\n",
    "data_filtered['Indeks Produksi'] = pd.to_numeric(data_filtered['Indeks Produksi'], errors='coerce')\n",
    "\n",
    "# Buat kolom 'Year' dan 'Month'\n",
    "# data_filtered['Year'] = data_filtered['Tanggal'].dt.year\n",
    "# data_filtered['Month'] = data_filtered['Tanggal'].dt.month\n",
    "\n",
    "data_filtered['bulan_tahun'] = data_filtered['Tanggal'].dt.to_period('M')"
   ]
  },
  {
   "cell_type": "code",
   "execution_count": null,
   "metadata": {},
   "outputs": [],
   "source": [
    "# Rekapan Bulanan\n",
    "# monthly_summary = data_filtered.groupby(['Year', 'Month']).agg({\n",
    "#     'SO': 'sum',\n",
    "#     # 'Terkirim': 'sum',\n",
    "#     # 'Harga Komoditas': 'mean',\n",
    "#     # 'Indeks Produksi': 'mean',\n",
    "#     # 'Data Inflasi': 'mean',\n",
    "#     # 'Kurs': 'mean'\n",
    "# }).reset_index()\n",
    "\n",
    "monthly_summary = data_filtered.groupby('bulan_tahun').agg({\n",
    "    'SO': 'sum',\n",
    "    # Uncomment other columns as needed\n",
    "    # 'Terkirim': 'sum',\n",
    "    # 'Harga Komoditas': 'mean',\n",
    "    # 'Indeks Produksi': 'mean',\n",
    "    # 'Data Inflasi': 'mean',\n",
    "    # 'Kurs': 'mean'\n",
    "}).reset_index()\n",
    "\n",
    "# Muncul Rekapan Bulanan\n",
    "monthly_summary"
   ]
  },
  {
   "cell_type": "code",
   "execution_count": null,
   "metadata": {},
   "outputs": [],
   "source": [
    "# Set alpha value for SES\n",
    "alpha = 0.1\n",
    "\n",
    "# Initialize columns for SES forecast and error metrics\n",
    "monthly_summary['SES Forecast'] = np.nan\n",
    "monthly_summary['Error'] = np.nan\n",
    "monthly_summary['MAD'] = np.nan\n",
    "monthly_summary['MSE'] = np.nan\n",
    "monthly_summary['MAPE'] = np.nan\n",
    "\n",
    "# Set initial forecast to the first SO value\n",
    "monthly_summary.loc[0, 'SES Forecast'] = monthly_summary.loc[0, 'SO']\n",
    "\n",
    "# Apply SES formula and calculate error metrics for each subsequent row\n",
    "for i in range(1, len(monthly_summary)):\n",
    "    # SES Forecast\n",
    "    monthly_summary.loc[i, 'SES Forecast'] = (alpha * monthly_summary.loc[i-1, 'SO']) + ((1 - alpha) * monthly_summary.loc[i-1, 'SES Forecast'])\n",
    "    \n",
    "    # Error\n",
    "    monthly_summary.loc[i, 'Error'] = monthly_summary.loc[i, 'SO'] - monthly_summary.loc[i, 'SES Forecast']\n",
    "    \n",
    "    # MAD (Mean Absolute Deviation)\n",
    "    monthly_summary.loc[i, 'MAD'] = abs(monthly_summary.loc[i, 'Error'])\n",
    "    \n",
    "    # MSE (Mean Squared Error)\n",
    "    monthly_summary.loc[i, 'MSE'] = monthly_summary.loc[i, 'Error'] ** 2\n",
    "    \n",
    "    # MAPE (Mean Absolute Percentage Error)\n",
    "    if monthly_summary.loc[i, 'SO'] != 0:\n",
    "        monthly_summary.loc[i, 'MAPE'] = (abs(monthly_summary.loc[i, 'Error']) / monthly_summary.loc[i, 'SO']) * 100\n",
    "    else:\n",
    "        monthly_summary.loc[i, 'MAPE'] = np.nan\n",
    "\n",
    "# Show the result\n",
    "print(monthly_summary)"
   ]
  },
  {
   "cell_type": "code",
   "execution_count": null,
   "metadata": {},
   "outputs": [],
   "source": [
    "# Optional: Plot the actual vs forecasted values\n",
    "plt.figure(figsize=(10, 6))\n",
    "plt.plot(monthly_summary['bulan_tahun'].astype(str), monthly_summary['SO'], label='Actual SO', marker='o')\n",
    "plt.plot(monthly_summary['bulan_tahun'].astype(str), monthly_summary['SES Forecast'], label='SES Forecast', marker='x')\n",
    "plt.xlabel('Month-Year')\n",
    "plt.ylabel('SO')\n",
    "plt.xticks(rotation=45)\n",
    "plt.title('Actual SO vs SES Forecast')\n",
    "plt.legend()\n",
    "plt.tight_layout()\n",
    "plt.show()"
   ]
  },
  {
   "cell_type": "code",
   "execution_count": null,
   "metadata": {},
   "outputs": [],
   "source": [
    "# Function to generate future forecasts\n",
    "def generate_future_forecasts(data, periods, alpha):\n",
    "    last_actual = data['SO'].iloc[-1]\n",
    "    last_forecast = data['SES Forecast'].iloc[-1]\n",
    "    \n",
    "    future_dates = pd.date_range(start=data['bulan_tahun'].iloc[-1].to_timestamp() + pd.DateOffset(months=1), periods=periods, freq='M')\n",
    "    future_forecasts = []\n",
    "    \n",
    "    for _ in range(periods):\n",
    "        next_forecast = alpha * last_actual + (1 - alpha) * last_forecast\n",
    "        future_forecasts.append(next_forecast)\n",
    "        last_actual = next_forecast  # Assume forecast becomes the actual for next period\n",
    "        last_forecast = next_forecast\n",
    "    \n",
    "    future_df = pd.DataFrame({\n",
    "        'bulan_tahun': future_dates.to_period('M'),\n",
    "        'SO': np.nan,\n",
    "        'SES Forecast': future_forecasts\n",
    "    })\n",
    "    \n",
    "    return future_df\n",
    "\n",
    "# Generate 12 months of future forecasts\n",
    "future_periods = 12\n",
    "future_forecasts = generate_future_forecasts(monthly_summary, future_periods, alpha)\n",
    "\n",
    "# Combine historical data with future forecasts\n",
    "combined_data = pd.concat([monthly_summary, future_forecasts]).reset_index(drop=True)\n",
    "\n",
    "# Plot the results including future forecasts\n",
    "plt.figure(figsize=(15, 8))\n",
    "plt.plot(combined_data.index, combined_data['SO'], label='Actual SO', marker='o')\n",
    "plt.plot(combined_data.index, combined_data['SES Forecast'], label='SES Forecast', marker='x')\n",
    "plt.axvline(x=len(monthly_summary) - 1, color='r', linestyle='--', label='Forecast Start')\n",
    "plt.xlabel('Month-Year')\n",
    "plt.ylabel('SO')\n",
    "plt.title('Actual SO vs SES Forecast (Including Future Predictions)')\n",
    "plt.legend()\n",
    "plt.xticks(range(0, len(combined_data), 2), combined_data['bulan_tahun'].astype(str)[::2], rotation=45)\n",
    "plt.tight_layout()\n",
    "plt.show()\n",
    "\n",
    "# Display the future forecasts\n",
    "print(\"\\nFuture Forecasts:\")\n",
    "print(future_forecasts)\n",
    "\n",
    "# Calculate and display overall error metrics\n",
    "overall_mad = monthly_summary['MAD'].mean()\n",
    "overall_mse = monthly_summary['MSE'].mean()\n",
    "overall_mape = monthly_summary['MAPE'].mean()\n",
    "\n",
    "print(f\"\\nOverall MAD: {overall_mad:.2f}\")\n",
    "print(f\"Overall MSE: {overall_mse:.2f}\")\n",
    "print(f\"Overall MAPE: {overall_mape:.2f}%\")"
   ]
  }
 ],
 "metadata": {
  "kernelspec": {
   "display_name": "Python 3",
   "language": "python",
   "name": "python3"
  },
  "language_info": {
   "codemirror_mode": {
    "name": "ipython",
    "version": 3
   },
   "file_extension": ".py",
   "mimetype": "text/x-python",
   "name": "python",
   "nbconvert_exporter": "python",
   "pygments_lexer": "ipython3",
   "version": "3.12.4"
  }
 },
 "nbformat": 4,
 "nbformat_minor": 2
}
