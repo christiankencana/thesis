{
 "cells": [
  {
   "cell_type": "code",
   "execution_count": 10,
   "metadata": {},
   "outputs": [],
   "source": [
    "# Import library\n",
    "import numpy as np\n",
    "import pandas as pd\n",
    "import matplotlib.pyplot as plt"
   ]
  },
  {
   "cell_type": "code",
   "execution_count": 11,
   "metadata": {},
   "outputs": [],
   "source": [
    "# Load data\n",
    "df = pd.read_excel('../data.xlsx', sheet_name='Rekapan')"
   ]
  },
  {
   "cell_type": "code",
   "execution_count": null,
   "metadata": {},
   "outputs": [],
   "source": [
    "# Muncul data awal dan akhir\n",
    "print(df.head())\n",
    "print(df.tail())"
   ]
  },
  {
   "cell_type": "code",
   "execution_count": null,
   "metadata": {},
   "outputs": [],
   "source": [
    "# Statistik deskriptif dasar\n",
    "print(df.describe())\n",
    "\n",
    "# Cek nilai yang hilang\n",
    "print(df.isnull().sum())\n",
    "\n",
    "# Visualisasi distribusi data\n",
    "df.hist(bins=50, figsize=(20, 15))\n",
    "plt.show()"
   ]
  },
  {
   "cell_type": "code",
   "execution_count": null,
   "metadata": {},
   "outputs": [],
   "source": [
    "# Filter kolom terkait\n",
    "data_filtered = df[['Tanggal', 'SO', 'TERKIRIM', 'Harga Komoditas Bijih Besi', 'Indeks Produksi Dalam Negeri', 'Data Inflasi', 'Kurs']]\n",
    "\n",
    "# Ganti nama kolom\n",
    "data_filtered.columns = ['Tanggal', 'SO', 'Terkirim', 'Harga Komoditas', 'Indeks Produksi', 'Data Inflasi', 'Kurs']\n",
    "\n",
    "# Konversi tipe data\n",
    "data_filtered['Tanggal'] = pd.to_datetime(data_filtered['Tanggal'])\n",
    "\n",
    "# Ganti tipe data 'Indeks Produksi'\n",
    "data_filtered['Indeks Produksi'] = pd.to_numeric(data_filtered['Indeks Produksi'], errors='coerce')\n",
    "\n",
    "# Buat kolom 'bulan_tahun'\n",
    "data_filtered['bulan_tahun'] = data_filtered['Tanggal'].dt.to_period('M')\n",
    "\n",
    "# Rekapan Bulanan\n",
    "monthly_summary = data_filtered.groupby('bulan_tahun').agg({\n",
    "    'SO': 'sum',\n",
    "    # Uncomment other columns as needed\n",
    "    # 'Terkirim': 'sum',\n",
    "    # 'Harga Komoditas': 'mean',\n",
    "    # 'Indeks Produksi': 'mean',\n",
    "    # 'Data Inflasi': 'mean',\n",
    "    # 'Kurs': 'mean'\n",
    "}).reset_index()\n",
    "\n",
    "# Muncul Rekapan Bulanan\n",
    "print(monthly_summary)"
   ]
  },
  {
   "cell_type": "code",
   "execution_count": 15,
   "metadata": {},
   "outputs": [],
   "source": [
    "# Set alpha value for SES\n",
    "alpha = 0.1\n",
    "\n",
    "# Initialize columns for SES forecast and error metrics\n",
    "monthly_summary['SES Forecast'] = np.nan\n",
    "monthly_summary['Error'] = np.nan\n",
    "monthly_summary['MAD'] = np.nan\n",
    "monthly_summary['MSE'] = np.nan\n",
    "monthly_summary['MAPE'] = np.nan\n",
    "\n",
    "# Set initial forecast to the first SO value\n",
    "monthly_summary.loc[0, 'SES Forecast'] = monthly_summary.loc[0, 'SO']\n",
    "\n",
    "# Apply SES formula and calculate error metrics for each subsequent row\n",
    "for i in range(1, len(monthly_summary)):\n",
    "    # SES Forecast\n",
    "    monthly_summary.loc[i, 'SES Forecast'] = (alpha * monthly_summary.loc[i-1, 'SO']) + ((1 - alpha) * monthly_summary.loc[i-1, 'SES Forecast'])\n",
    "    \n",
    "    # Error\n",
    "    monthly_summary.loc[i, 'Error'] = monthly_summary.loc[i, 'SO'] - monthly_summary.loc[i, 'SES Forecast']\n",
    "    \n",
    "    # MAD (Mean Absolute Deviation)\n",
    "    monthly_summary.loc[i, 'MAD'] = abs(monthly_summary.loc[i, 'Error'])\n",
    "    \n",
    "    # MSE (Mean Squared Error)\n",
    "    monthly_summary.loc[i, 'MSE'] = monthly_summary.loc[i, 'Error'] ** 2\n",
    "    \n",
    "    # MAPE (Mean Absolute Percentage Error)\n",
    "    if monthly_summary.loc[i, 'SO'] != 0:\n",
    "        monthly_summary.loc[i, 'MAPE'] = (abs(monthly_summary.loc[i, 'Error']) / monthly_summary.loc[i, 'SO']) * 100\n",
    "    else:\n",
    "        monthly_summary.loc[i, 'MAPE'] = np.nan\n",
    "\n",
    "print(monthly_summary)"
   ]
  },
  {
   "cell_type": "code",
   "execution_count": null,
   "metadata": {},
   "outputs": [],
   "source": [
    "# Create dummy data with SO values set to 0 for 12 months into the future\n",
    "months_to_forecast = 12\n",
    "\n",
    "# Get the last month from the original data\n",
    "last_month = monthly_summary['bulan_tahun'].max().to_timestamp()\n",
    "\n",
    "# Generate dummy months starting from the next month after the last month in the original data\n",
    "dummy_data = pd.DataFrame({\n",
    "    'bulan_tahun': pd.date_range(start=last_month + pd.offsets.MonthBegin(1), periods=months_to_forecast, freq='M').to_period('M'),\n",
    "    'SO': np.zeros(months_to_forecast)\n",
    "})\n",
    "\n",
    "# Combine with the original data\n",
    "extended_data = pd.concat([monthly_summary[['bulan_tahun', 'SO']], dummy_data], ignore_index=True)\n",
    "\n",
    "# Initialize columns for SES forecast and error metrics in the extended data\n",
    "extended_data['SES Forecast'] = np.nan\n",
    "extended_data['Error'] = np.nan\n",
    "extended_data['MAD'] = np.nan\n",
    "extended_data['MSE'] = np.nan\n",
    "extended_data['MAPE'] = np.nan\n",
    "\n",
    "# Set initial forecast to the first SO value (from original data)\n",
    "extended_data.loc[0, 'SES Forecast'] = extended_data.loc[0, 'SO']\n",
    "\n",
    "# Apply SES formula to the extended dataset\n",
    "for i in range(1, len(extended_data)):\n",
    "    # SES Forecast\n",
    "    extended_data.loc[i, 'SES Forecast'] = (alpha * extended_data.loc[i-1, 'SO']) + ((1 - alpha) * extended_data.loc[i-1, 'SES Forecast'])\n",
    "    \n",
    "    # Error\n",
    "    extended_data.loc[i, 'Error'] = extended_data.loc[i, 'SO'] - extended_data.loc[i, 'SES Forecast']\n",
    "    \n",
    "    # MAD (Mean Absolute Deviation)\n",
    "    extended_data.loc[i, 'MAD'] = abs(extended_data.loc[i, 'Error'])\n",
    "    \n",
    "    # MSE (Mean Squared Error)\n",
    "    extended_data.loc[i, 'MSE'] = extended_data.loc[i, 'Error'] ** 2\n",
    "    \n",
    "    # MAPE (Mean Absolute Percentage Error)\n",
    "    if extended_data.loc[i, 'SO'] != 0:\n",
    "        extended_data.loc[i, 'MAPE'] = (abs(extended_data.loc[i, 'Error']) / extended_data.loc[i, 'SO']) * 100\n",
    "    else:\n",
    "        extended_data.loc[i, 'MAPE'] = np.nan\n",
    "\n",
    "# Show the result\n",
    "print(extended_data)"
   ]
  },
  {
   "cell_type": "code",
   "execution_count": null,
   "metadata": {},
   "outputs": [],
   "source": [
    "# Optional: Plot the actual vs forecasted values\n",
    "plt.figure(figsize=(14, 6))\n",
    "plt.plot(extended_data['bulan_tahun'].astype(str), extended_data['SO'], label='Actual SO', marker='o')\n",
    "plt.plot(extended_data['bulan_tahun'].astype(str), extended_data['SES Forecast'], label='SES Forecast', marker='x')\n",
    "plt.xlabel('Month-Year')\n",
    "plt.ylabel('SO')\n",
    "plt.xticks(rotation=45)\n",
    "plt.title('Actual SO vs SES Forecast')\n",
    "plt.legend()\n",
    "plt.tight_layout()\n",
    "plt.show()"
   ]
  }
 ],
 "metadata": {
  "kernelspec": {
   "display_name": "Python 3",
   "language": "python",
   "name": "python3"
  },
  "language_info": {
   "codemirror_mode": {
    "name": "ipython",
    "version": 3
   },
   "file_extension": ".py",
   "mimetype": "text/x-python",
   "name": "python",
   "nbconvert_exporter": "python",
   "pygments_lexer": "ipython3",
   "version": "3.12.4"
  }
 },
 "nbformat": 4,
 "nbformat_minor": 2
}
